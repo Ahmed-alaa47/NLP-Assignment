{
 "cells": [
  {
   "cell_type": "code",
   "execution_count": 1,
   "id": "41cbcd18",
   "metadata": {
    "_cell_guid": "b1076dfc-b9ad-4769-8c92-a6c4dae69d19",
    "_uuid": "8f2839f25d086af736a60e9eeb907d3b93b6e0e5",
    "execution": {
     "iopub.execute_input": "2025-03-19T22:54:46.173732Z",
     "iopub.status.busy": "2025-03-19T22:54:46.173497Z",
     "iopub.status.idle": "2025-03-19T22:54:47.564796Z",
     "shell.execute_reply": "2025-03-19T22:54:47.563833Z"
    },
    "papermill": {
     "duration": 1.397817,
     "end_time": "2025-03-19T22:54:47.566212",
     "exception": false,
     "start_time": "2025-03-19T22:54:46.168395",
     "status": "completed"
    },
    "tags": []
   },
   "outputs": [
    {
     "name": "stdout",
     "output_type": "stream",
     "text": [
      "/kaggle/input/amazon-product-reviews-sentiment-analysis/AmazonReview.csv\n"
     ]
    }
   ],
   "source": [
    "# This Python 3 environment comes with many helpful analytics libraries installed\n",
    "# It is defined by the kaggle/python Docker image: https://github.com/kaggle/docker-python\n",
    "# For example, here's several helpful packages to load\n",
    "\n",
    "import numpy as np # linear algebra\n",
    "import pandas as pd # data processing, CSV file I/O (e.g. pd.read_csv)\n",
    "\n",
    "# Input data files are available in the read-only \"../input/\" directory\n",
    "# For example, running this (by clicking run or pressing Shift+Enter) will list all files under the input directory\n",
    "\n",
    "import os\n",
    "for dirname, _, filenames in os.walk('/kaggle/input'):\n",
    "    for filename in filenames:\n",
    "        print(os.path.join(dirname, filename))\n",
    "\n",
    "# You can write up to 20GB to the current directory (/kaggle/working/) that gets preserved as output when you create a version using \"Save & Run All\" \n",
    "# You can also write temporary files to /kaggle/temp/, but they won't be saved outside of the current session"
   ]
  },
  {
   "cell_type": "code",
   "execution_count": 2,
   "id": "4590f418",
   "metadata": {
    "execution": {
     "iopub.execute_input": "2025-03-19T22:54:47.580767Z",
     "iopub.status.busy": "2025-03-19T22:54:47.580438Z",
     "iopub.status.idle": "2025-03-19T22:55:10.824488Z",
     "shell.execute_reply": "2025-03-19T22:55:10.823548Z"
    },
    "papermill": {
     "duration": 23.250663,
     "end_time": "2025-03-19T22:55:10.826404",
     "exception": false,
     "start_time": "2025-03-19T22:54:47.575741",
     "status": "completed"
    },
    "tags": []
   },
   "outputs": [],
   "source": [
    "import matplotlib.pyplot as plt \n",
    "import re \n",
    "import seaborn as sns \n",
    "import nltk \n",
    "from nltk.corpus import stopwords \n",
    "from nltk.tokenize import word_tokenize \n",
    "import tensorflow as tf \n",
    "from tensorflow.keras.layers import SimpleRNN, LSTM, Dense, Dropout, Embedding, BatchNormalization \n",
    "from tensorflow.keras.models import Sequential \n",
    "from tensorflow.keras.preprocessing.text import Tokenizer \n",
    "from tensorflow.keras.utils import pad_sequences \n",
    "\n",
    "import warnings \n",
    "warnings.filterwarnings('ignore')"
   ]
  },
  {
   "cell_type": "code",
   "execution_count": 3,
   "id": "bf4cde23",
   "metadata": {
    "execution": {
     "iopub.execute_input": "2025-03-19T22:55:10.835669Z",
     "iopub.status.busy": "2025-03-19T22:55:10.835213Z",
     "iopub.status.idle": "2025-03-19T22:55:11.080817Z",
     "shell.execute_reply": "2025-03-19T22:55:11.080086Z"
    },
    "papermill": {
     "duration": 0.251761,
     "end_time": "2025-03-19T22:55:11.082394",
     "exception": false,
     "start_time": "2025-03-19T22:55:10.830633",
     "status": "completed"
    },
    "tags": []
   },
   "outputs": [],
   "source": [
    "data = pd.read_csv('/kaggle/input/amazon-product-reviews-sentiment-analysis/AmazonReview.csv')"
   ]
  },
  {
   "cell_type": "code",
   "execution_count": 4,
   "id": "3e3d3550",
   "metadata": {
    "execution": {
     "iopub.execute_input": "2025-03-19T22:55:11.091339Z",
     "iopub.status.busy": "2025-03-19T22:55:11.091057Z",
     "iopub.status.idle": "2025-03-19T22:55:11.114526Z",
     "shell.execute_reply": "2025-03-19T22:55:11.113693Z"
    },
    "papermill": {
     "duration": 0.029103,
     "end_time": "2025-03-19T22:55:11.115744",
     "exception": false,
     "start_time": "2025-03-19T22:55:11.086641",
     "status": "completed"
    },
    "tags": []
   },
   "outputs": [
    {
     "data": {
      "text/html": [
       "<div>\n",
       "<style scoped>\n",
       "    .dataframe tbody tr th:only-of-type {\n",
       "        vertical-align: middle;\n",
       "    }\n",
       "\n",
       "    .dataframe tbody tr th {\n",
       "        vertical-align: top;\n",
       "    }\n",
       "\n",
       "    .dataframe thead th {\n",
       "        text-align: right;\n",
       "    }\n",
       "</style>\n",
       "<table border=\"1\" class=\"dataframe\">\n",
       "  <thead>\n",
       "    <tr style=\"text-align: right;\">\n",
       "      <th></th>\n",
       "      <th>Review</th>\n",
       "      <th>Sentiment</th>\n",
       "    </tr>\n",
       "  </thead>\n",
       "  <tbody>\n",
       "    <tr>\n",
       "      <th>0</th>\n",
       "      <td>Fast shipping but this product is very cheaply...</td>\n",
       "      <td>1</td>\n",
       "    </tr>\n",
       "    <tr>\n",
       "      <th>1</th>\n",
       "      <td>This case takes so long to ship and it's not e...</td>\n",
       "      <td>1</td>\n",
       "    </tr>\n",
       "    <tr>\n",
       "      <th>2</th>\n",
       "      <td>Good for not droids. Not good for iPhones. You...</td>\n",
       "      <td>1</td>\n",
       "    </tr>\n",
       "    <tr>\n",
       "      <th>3</th>\n",
       "      <td>The cable was not compatible between my macboo...</td>\n",
       "      <td>1</td>\n",
       "    </tr>\n",
       "    <tr>\n",
       "      <th>4</th>\n",
       "      <td>The case is nice but did not have a glow light...</td>\n",
       "      <td>1</td>\n",
       "    </tr>\n",
       "  </tbody>\n",
       "</table>\n",
       "</div>"
      ],
      "text/plain": [
       "                                              Review  Sentiment\n",
       "0  Fast shipping but this product is very cheaply...          1\n",
       "1  This case takes so long to ship and it's not e...          1\n",
       "2  Good for not droids. Not good for iPhones. You...          1\n",
       "3  The cable was not compatible between my macboo...          1\n",
       "4  The case is nice but did not have a glow light...          1"
      ]
     },
     "execution_count": 4,
     "metadata": {},
     "output_type": "execute_result"
    }
   ],
   "source": [
    "data.head()"
   ]
  },
  {
   "cell_type": "code",
   "execution_count": 5,
   "id": "67972ad4",
   "metadata": {
    "execution": {
     "iopub.execute_input": "2025-03-19T22:55:11.124389Z",
     "iopub.status.busy": "2025-03-19T22:55:11.124161Z",
     "iopub.status.idle": "2025-03-19T22:55:11.128453Z",
     "shell.execute_reply": "2025-03-19T22:55:11.127702Z"
    },
    "papermill": {
     "duration": 0.009952,
     "end_time": "2025-03-19T22:55:11.129708",
     "exception": false,
     "start_time": "2025-03-19T22:55:11.119756",
     "status": "completed"
    },
    "tags": []
   },
   "outputs": [
    {
     "data": {
      "text/plain": [
       "(25000, 2)"
      ]
     },
     "execution_count": 5,
     "metadata": {},
     "output_type": "execute_result"
    }
   ],
   "source": [
    "data.shape"
   ]
  },
  {
   "cell_type": "code",
   "execution_count": 6,
   "id": "d927ca78",
   "metadata": {
    "execution": {
     "iopub.execute_input": "2025-03-19T22:55:11.138435Z",
     "iopub.status.busy": "2025-03-19T22:55:11.138233Z",
     "iopub.status.idle": "2025-03-19T22:55:11.164951Z",
     "shell.execute_reply": "2025-03-19T22:55:11.164208Z"
    },
    "papermill": {
     "duration": 0.03245,
     "end_time": "2025-03-19T22:55:11.166168",
     "exception": false,
     "start_time": "2025-03-19T22:55:11.133718",
     "status": "completed"
    },
    "tags": []
   },
   "outputs": [
    {
     "name": "stdout",
     "output_type": "stream",
     "text": [
      "Null Values :  Review       1\n",
      "Sentiment    0\n",
      "dtype: int64\n",
      "Null Values :  Review       0\n",
      "Sentiment    0\n",
      "dtype: int64\n"
     ]
    }
   ],
   "source": [
    "print(\"Null Values : \", data.isna().sum())\n",
    "\n",
    "data = data.dropna()\n",
    "\n",
    "print(\"Null Values : \", data.isna().sum())"
   ]
  },
  {
   "cell_type": "code",
   "execution_count": 7,
   "id": "afffea9f",
   "metadata": {
    "execution": {
     "iopub.execute_input": "2025-03-19T22:55:11.175096Z",
     "iopub.status.busy": "2025-03-19T22:55:11.174900Z",
     "iopub.status.idle": "2025-03-19T22:55:11.187473Z",
     "shell.execute_reply": "2025-03-19T22:55:11.186684Z"
    },
    "papermill": {
     "duration": 0.018429,
     "end_time": "2025-03-19T22:55:11.188763",
     "exception": false,
     "start_time": "2025-03-19T22:55:11.170334",
     "status": "completed"
    },
    "tags": []
   },
   "outputs": [
    {
     "data": {
      "text/plain": [
       "Sentiment\n",
       "1    5000\n",
       "2    5000\n",
       "3    5000\n",
       "4    5000\n",
       "5    4999\n",
       "Name: count, dtype: int64"
      ]
     },
     "execution_count": 7,
     "metadata": {},
     "output_type": "execute_result"
    }
   ],
   "source": [
    "data['Sentiment'].value_counts()"
   ]
  },
  {
   "cell_type": "markdown",
   "id": "d248fdb9",
   "metadata": {
    "papermill": {
     "duration": 0.003998,
     "end_time": "2025-03-19T22:55:11.196823",
     "exception": false,
     "start_time": "2025-03-19T22:55:11.192825",
     "status": "completed"
    },
    "tags": []
   },
   "source": [
    "# **EDA**"
   ]
  },
  {
   "cell_type": "code",
   "execution_count": 8,
   "id": "7958083d",
   "metadata": {
    "execution": {
     "iopub.execute_input": "2025-03-19T22:55:11.205617Z",
     "iopub.status.busy": "2025-03-19T22:55:11.205420Z",
     "iopub.status.idle": "2025-03-19T22:55:24.061669Z",
     "shell.execute_reply": "2025-03-19T22:55:24.060746Z"
    },
    "papermill": {
     "duration": 12.862492,
     "end_time": "2025-03-19T22:55:24.063350",
     "exception": false,
     "start_time": "2025-03-19T22:55:11.200858",
     "status": "completed"
    },
    "tags": []
   },
   "outputs": [
    {
     "name": "stdout",
     "output_type": "stream",
     "text": [
      "[nltk_data] Downloading package stopwords to /usr/share/nltk_data...\n",
      "[nltk_data]   Unzipping corpora/stopwords.zip.\n",
      "[nltk_data] Downloading package punkt_tab to /usr/share/nltk_data...\n",
      "[nltk_data]   Unzipping tokenizers/punkt_tab.zip.\n"
     ]
    }
   ],
   "source": [
    "import nltk\n",
    "from nltk.tokenize import word_tokenize\n",
    "from nltk.corpus import stopwords\n",
    "\n",
    "nltk.download('stopwords')\n",
    "nltk.download('punkt_tab') # Dataset for tokenizing \n",
    "\n",
    "stop_words = set(stopwords.words('english'))\n",
    "# Stop words are common words like \"the\", \"is\", \"and\" that usually don't add much meaning to a sentence.\n",
    "\n",
    "def clean_reviews(text): \n",
    "    if isinstance(text, str): \n",
    "        text = text.lower()  \n",
    "        text = word_tokenize(text) \n",
    "        text = [word for word in text if word not in stop_words]  \n",
    "    else:\n",
    "        text = []  \n",
    "    return text \n",
    "\n",
    "# Handle non-string values in the 'Review' column\n",
    "data['Review'] = data['Review'].astype(str)  \n",
    "data['Review'] = data['Review'].fillna('')   \n",
    "\n",
    "# Apply the cleaning function\n",
    "data['Review'] = data['Review'].apply(clean_reviews)"
   ]
  },
  {
   "cell_type": "code",
   "execution_count": 9,
   "id": "e6659025",
   "metadata": {
    "execution": {
     "iopub.execute_input": "2025-03-19T22:55:24.073059Z",
     "iopub.status.busy": "2025-03-19T22:55:24.072793Z",
     "iopub.status.idle": "2025-03-19T22:55:24.080990Z",
     "shell.execute_reply": "2025-03-19T22:55:24.080312Z"
    },
    "papermill": {
     "duration": 0.014185,
     "end_time": "2025-03-19T22:55:24.082159",
     "exception": false,
     "start_time": "2025-03-19T22:55:24.067974",
     "status": "completed"
    },
    "tags": []
   },
   "outputs": [
    {
     "data": {
      "text/html": [
       "<div>\n",
       "<style scoped>\n",
       "    .dataframe tbody tr th:only-of-type {\n",
       "        vertical-align: middle;\n",
       "    }\n",
       "\n",
       "    .dataframe tbody tr th {\n",
       "        vertical-align: top;\n",
       "    }\n",
       "\n",
       "    .dataframe thead th {\n",
       "        text-align: right;\n",
       "    }\n",
       "</style>\n",
       "<table border=\"1\" class=\"dataframe\">\n",
       "  <thead>\n",
       "    <tr style=\"text-align: right;\">\n",
       "      <th></th>\n",
       "      <th>Review</th>\n",
       "      <th>Sentiment</th>\n",
       "    </tr>\n",
       "  </thead>\n",
       "  <tbody>\n",
       "    <tr>\n",
       "      <th>0</th>\n",
       "      <td>[fast, shipping, product, cheaply, made, broug...</td>\n",
       "      <td>1</td>\n",
       "    </tr>\n",
       "    <tr>\n",
       "      <th>1</th>\n",
       "      <td>[case, takes, long, ship, 's, even, worth, don...</td>\n",
       "      <td>1</td>\n",
       "    </tr>\n",
       "    <tr>\n",
       "      <th>2</th>\n",
       "      <td>[good, droids, ., good, iphones, ., use, featu...</td>\n",
       "      <td>1</td>\n",
       "    </tr>\n",
       "    <tr>\n",
       "      <th>3</th>\n",
       "      <td>[cable, compatible, macbook, iphone, ., also, ...</td>\n",
       "      <td>1</td>\n",
       "    </tr>\n",
       "    <tr>\n",
       "      <th>4</th>\n",
       "      <td>[case, nice, glow, light, ., 'm, disappointed,...</td>\n",
       "      <td>1</td>\n",
       "    </tr>\n",
       "  </tbody>\n",
       "</table>\n",
       "</div>"
      ],
      "text/plain": [
       "                                              Review  Sentiment\n",
       "0  [fast, shipping, product, cheaply, made, broug...          1\n",
       "1  [case, takes, long, ship, 's, even, worth, don...          1\n",
       "2  [good, droids, ., good, iphones, ., use, featu...          1\n",
       "3  [cable, compatible, macbook, iphone, ., also, ...          1\n",
       "4  [case, nice, glow, light, ., 'm, disappointed,...          1"
      ]
     },
     "execution_count": 9,
     "metadata": {},
     "output_type": "execute_result"
    }
   ],
   "source": [
    "data.head()"
   ]
  },
  {
   "cell_type": "code",
   "execution_count": 10,
   "id": "acb045d6",
   "metadata": {
    "execution": {
     "iopub.execute_input": "2025-03-19T22:55:24.091701Z",
     "iopub.status.busy": "2025-03-19T22:55:24.091479Z",
     "iopub.status.idle": "2025-03-19T22:55:25.232583Z",
     "shell.execute_reply": "2025-03-19T22:55:25.231773Z"
    },
    "papermill": {
     "duration": 1.147194,
     "end_time": "2025-03-19T22:55:25.234031",
     "exception": false,
     "start_time": "2025-03-19T22:55:24.086837",
     "status": "completed"
    },
    "tags": []
   },
   "outputs": [
    {
     "name": "stdout",
     "output_type": "stream",
     "text": [
      "(24999, 500) (24999, 5)\n"
     ]
    }
   ],
   "source": [
    "from tensorflow.keras.preprocessing.text import Tokenizer # Converts text into numbers\n",
    "from tensorflow.keras.preprocessing.sequence import pad_sequences # Ensures all sequences have the same length by padding or truncating them\n",
    "import numpy as np\n",
    "import pandas as pd\n",
    "\n",
    "tokenizer = Tokenizer() \n",
    "\n",
    "reviews_to_list = data['Review'].tolist() \n",
    "tokenizer.fit_on_texts(reviews_to_list) # analyzes the text and builds a vocabulary \n",
    "\n",
    "text_sequences = tokenizer.texts_to_sequences(reviews_to_list) # Each word in the text is replaced by its corresponding integer ID from the tokenizer's vocabulary\n",
    "\n",
    "max_words = 500\n",
    "X = pad_sequences(text_sequences, maxlen=max_words)\n",
    "\n",
    "data = pd.get_dummies(data, columns=['Sentiment'])\n",
    "\n",
    "y = data[['Sentiment_1', 'Sentiment_2', 'Sentiment_3', 'Sentiment_4', 'Sentiment_5']] \n",
    "\n",
    "print(X.shape, y.shape)"
   ]
  },
  {
   "cell_type": "markdown",
   "id": "b2445686",
   "metadata": {
    "papermill": {
     "duration": 0.004383,
     "end_time": "2025-03-19T22:55:25.243151",
     "exception": false,
     "start_time": "2025-03-19T22:55:25.238768",
     "status": "completed"
    },
    "tags": []
   },
   "source": [
    "# **Train-Test-Split**"
   ]
  },
  {
   "cell_type": "code",
   "execution_count": 11,
   "id": "178c17a7",
   "metadata": {
    "execution": {
     "iopub.execute_input": "2025-03-19T22:55:25.252615Z",
     "iopub.status.busy": "2025-03-19T22:55:25.252393Z",
     "iopub.status.idle": "2025-03-19T22:55:25.278225Z",
     "shell.execute_reply": "2025-03-19T22:55:25.277245Z"
    },
    "papermill": {
     "duration": 0.032201,
     "end_time": "2025-03-19T22:55:25.279654",
     "exception": false,
     "start_time": "2025-03-19T22:55:25.247453",
     "status": "completed"
    },
    "tags": []
   },
   "outputs": [
    {
     "name": "stdout",
     "output_type": "stream",
     "text": [
      "(19999, 500) (5000, 500) (19999, 5) (5000, 5)\n"
     ]
    }
   ],
   "source": [
    "from sklearn.model_selection import train_test_split\n",
    "\n",
    "X_train, X_test, y_train, y_test = train_test_split(X, y, test_size=0.20, random_state=42)\n",
    "print(X_train.shape, X_test.shape, y_train.shape, y_test.shape)"
   ]
  },
  {
   "cell_type": "markdown",
   "id": "69a787ae",
   "metadata": {
    "papermill": {
     "duration": 0.005165,
     "end_time": "2025-03-19T22:55:25.290498",
     "exception": false,
     "start_time": "2025-03-19T22:55:25.285333",
     "status": "completed"
    },
    "tags": []
   },
   "source": [
    "# **RNN Model**"
   ]
  },
  {
   "cell_type": "code",
   "execution_count": 12,
   "id": "7223fcc4",
   "metadata": {
    "execution": {
     "iopub.execute_input": "2025-03-19T22:55:25.300500Z",
     "iopub.status.busy": "2025-03-19T22:55:25.300229Z",
     "iopub.status.idle": "2025-03-19T22:55:27.438144Z",
     "shell.execute_reply": "2025-03-19T22:55:27.437217Z"
    },
    "papermill": {
     "duration": 2.144274,
     "end_time": "2025-03-19T22:55:27.439551",
     "exception": false,
     "start_time": "2025-03-19T22:55:25.295277",
     "status": "completed"
    },
    "tags": []
   },
   "outputs": [
    {
     "data": {
      "text/html": [
       "<pre style=\"white-space:pre;overflow-x:auto;line-height:normal;font-family:Menlo,'DejaVu Sans Mono',consolas,'Courier New',monospace\"><span style=\"font-weight: bold\">Model: \"Simple_RNN\"</span>\n",
       "</pre>\n"
      ],
      "text/plain": [
       "\u001b[1mModel: \"Simple_RNN\"\u001b[0m\n"
      ]
     },
     "metadata": {},
     "output_type": "display_data"
    },
    {
     "data": {
      "text/html": [
       "<pre style=\"white-space:pre;overflow-x:auto;line-height:normal;font-family:Menlo,'DejaVu Sans Mono',consolas,'Courier New',monospace\">┏━━━━━━━━━━━━━━━━━━━━━━━━━━━━━━━━━━━━━━┳━━━━━━━━━━━━━━━━━━━━━━━━━━━━━┳━━━━━━━━━━━━━━━━━┓\n",
       "┃<span style=\"font-weight: bold\"> Layer (type)                         </span>┃<span style=\"font-weight: bold\"> Output Shape                </span>┃<span style=\"font-weight: bold\">         Param # </span>┃\n",
       "┡━━━━━━━━━━━━━━━━━━━━━━━━━━━━━━━━━━━━━━╇━━━━━━━━━━━━━━━━━━━━━━━━━━━━━╇━━━━━━━━━━━━━━━━━┩\n",
       "│ embedding (<span style=\"color: #0087ff; text-decoration-color: #0087ff\">Embedding</span>)                │ ?                           │     <span style=\"color: #00af00; text-decoration-color: #00af00\">0</span> (unbuilt) │\n",
       "├──────────────────────────────────────┼─────────────────────────────┼─────────────────┤\n",
       "│ simple_rnn (<span style=\"color: #0087ff; text-decoration-color: #0087ff\">SimpleRNN</span>)               │ ?                           │     <span style=\"color: #00af00; text-decoration-color: #00af00\">0</span> (unbuilt) │\n",
       "├──────────────────────────────────────┼─────────────────────────────┼─────────────────┤\n",
       "│ simple_rnn_1 (<span style=\"color: #0087ff; text-decoration-color: #0087ff\">SimpleRNN</span>)             │ ?                           │     <span style=\"color: #00af00; text-decoration-color: #00af00\">0</span> (unbuilt) │\n",
       "├──────────────────────────────────────┼─────────────────────────────┼─────────────────┤\n",
       "│ dense (<span style=\"color: #0087ff; text-decoration-color: #0087ff\">Dense</span>)                        │ ?                           │     <span style=\"color: #00af00; text-decoration-color: #00af00\">0</span> (unbuilt) │\n",
       "└──────────────────────────────────────┴─────────────────────────────┴─────────────────┘\n",
       "</pre>\n"
      ],
      "text/plain": [
       "┏━━━━━━━━━━━━━━━━━━━━━━━━━━━━━━━━━━━━━━┳━━━━━━━━━━━━━━━━━━━━━━━━━━━━━┳━━━━━━━━━━━━━━━━━┓\n",
       "┃\u001b[1m \u001b[0m\u001b[1mLayer (type)                        \u001b[0m\u001b[1m \u001b[0m┃\u001b[1m \u001b[0m\u001b[1mOutput Shape               \u001b[0m\u001b[1m \u001b[0m┃\u001b[1m \u001b[0m\u001b[1m        Param #\u001b[0m\u001b[1m \u001b[0m┃\n",
       "┡━━━━━━━━━━━━━━━━━━━━━━━━━━━━━━━━━━━━━━╇━━━━━━━━━━━━━━━━━━━━━━━━━━━━━╇━━━━━━━━━━━━━━━━━┩\n",
       "│ embedding (\u001b[38;5;33mEmbedding\u001b[0m)                │ ?                           │     \u001b[38;5;34m0\u001b[0m (unbuilt) │\n",
       "├──────────────────────────────────────┼─────────────────────────────┼─────────────────┤\n",
       "│ simple_rnn (\u001b[38;5;33mSimpleRNN\u001b[0m)               │ ?                           │     \u001b[38;5;34m0\u001b[0m (unbuilt) │\n",
       "├──────────────────────────────────────┼─────────────────────────────┼─────────────────┤\n",
       "│ simple_rnn_1 (\u001b[38;5;33mSimpleRNN\u001b[0m)             │ ?                           │     \u001b[38;5;34m0\u001b[0m (unbuilt) │\n",
       "├──────────────────────────────────────┼─────────────────────────────┼─────────────────┤\n",
       "│ dense (\u001b[38;5;33mDense\u001b[0m)                        │ ?                           │     \u001b[38;5;34m0\u001b[0m (unbuilt) │\n",
       "└──────────────────────────────────────┴─────────────────────────────┴─────────────────┘\n"
      ]
     },
     "metadata": {},
     "output_type": "display_data"
    },
    {
     "data": {
      "text/html": [
       "<pre style=\"white-space:pre;overflow-x:auto;line-height:normal;font-family:Menlo,'DejaVu Sans Mono',consolas,'Courier New',monospace\"><span style=\"font-weight: bold\"> Total params: </span><span style=\"color: #00af00; text-decoration-color: #00af00\">0</span> (0.00 B)\n",
       "</pre>\n"
      ],
      "text/plain": [
       "\u001b[1m Total params: \u001b[0m\u001b[38;5;34m0\u001b[0m (0.00 B)\n"
      ]
     },
     "metadata": {},
     "output_type": "display_data"
    },
    {
     "data": {
      "text/html": [
       "<pre style=\"white-space:pre;overflow-x:auto;line-height:normal;font-family:Menlo,'DejaVu Sans Mono',consolas,'Courier New',monospace\"><span style=\"font-weight: bold\"> Trainable params: </span><span style=\"color: #00af00; text-decoration-color: #00af00\">0</span> (0.00 B)\n",
       "</pre>\n"
      ],
      "text/plain": [
       "\u001b[1m Trainable params: \u001b[0m\u001b[38;5;34m0\u001b[0m (0.00 B)\n"
      ]
     },
     "metadata": {},
     "output_type": "display_data"
    },
    {
     "data": {
      "text/html": [
       "<pre style=\"white-space:pre;overflow-x:auto;line-height:normal;font-family:Menlo,'DejaVu Sans Mono',consolas,'Courier New',monospace\"><span style=\"font-weight: bold\"> Non-trainable params: </span><span style=\"color: #00af00; text-decoration-color: #00af00\">0</span> (0.00 B)\n",
       "</pre>\n"
      ],
      "text/plain": [
       "\u001b[1m Non-trainable params: \u001b[0m\u001b[38;5;34m0\u001b[0m (0.00 B)\n"
      ]
     },
     "metadata": {},
     "output_type": "display_data"
    },
    {
     "name": "stdout",
     "output_type": "stream",
     "text": [
      "None\n"
     ]
    }
   ],
   "source": [
    "rnn = Sequential(name=\"Simple_RNN\") \n",
    "rnn.add(Embedding(len(tokenizer.word_index)+1, \n",
    "\t\t\t\t\t\tmax_words, \n",
    "\t\t\t\t\t\tinput_length=max_words)) \n",
    "\n",
    "rnn.add(SimpleRNN(128,activation='relu',return_sequences=True)) \n",
    "\n",
    "rnn.add(SimpleRNN(64,activation='relu',return_sequences=False)) \n",
    "\n",
    "rnn.add(Dense(5, activation='softmax')) \n",
    "\n",
    "print(rnn.summary())"
   ]
  },
  {
   "cell_type": "code",
   "execution_count": 13,
   "id": "de71d132",
   "metadata": {
    "execution": {
     "iopub.execute_input": "2025-03-19T22:55:27.451217Z",
     "iopub.status.busy": "2025-03-19T22:55:27.450935Z",
     "iopub.status.idle": "2025-03-19T22:57:21.650854Z",
     "shell.execute_reply": "2025-03-19T22:57:21.649951Z"
    },
    "papermill": {
     "duration": 114.206964,
     "end_time": "2025-03-19T22:57:21.652312",
     "exception": false,
     "start_time": "2025-03-19T22:55:27.445348",
     "status": "completed"
    },
    "tags": []
   },
   "outputs": [
    {
     "name": "stdout",
     "output_type": "stream",
     "text": [
      "Epoch 1/3\n",
      "\u001b[1m313/313\u001b[0m \u001b[32m━━━━━━━━━━━━━━━━━━━━\u001b[0m\u001b[37m\u001b[0m \u001b[1m42s\u001b[0m 114ms/step - accuracy: 0.3098 - loss: 1.4953 - val_accuracy: 0.4266 - val_loss: 1.2613\n",
      "Epoch 2/3\n",
      "\u001b[1m313/313\u001b[0m \u001b[32m━━━━━━━━━━━━━━━━━━━━\u001b[0m\u001b[37m\u001b[0m \u001b[1m33s\u001b[0m 106ms/step - accuracy: 0.5198 - loss: 1.1147 - val_accuracy: 0.4360 - val_loss: 1.2824\n",
      "Epoch 3/3\n",
      "\u001b[1m313/313\u001b[0m \u001b[32m━━━━━━━━━━━━━━━━━━━━\u001b[0m\u001b[37m\u001b[0m \u001b[1m33s\u001b[0m 105ms/step - accuracy: 0.6703 - loss: 0.8309 - val_accuracy: 0.4170 - val_loss: 1.4590\n",
      "\u001b[1m157/157\u001b[0m \u001b[32m━━━━━━━━━━━━━━━━━━━━\u001b[0m\u001b[37m\u001b[0m \u001b[1m6s\u001b[0m 35ms/step - accuracy: 0.4197 - loss: 1.4589\n",
      "Simple_RNN Score--->  [1.4590290784835815, 0.4169999957084656]\n"
     ]
    }
   ],
   "source": [
    "rnn.compile( \n",
    "\tloss=\"categorical_crossentropy\", \n",
    "\toptimizer='adam', \n",
    "\tmetrics=['accuracy'] \n",
    ") \n",
    "\n",
    "\n",
    "history = rnn.fit(X_train, y_train, \n",
    "\t\t\t\t\t\tbatch_size=64, \n",
    "\t\t\t\t\t\tepochs=3, #higher epochs causes overfitting because the model is too simple\n",
    "\t\t\t\t\t\tverbose=1, \n",
    "\t\t\t\t\t\tvalidation_data = (X_test, y_test)) \n",
    "\n",
    "\n",
    "print(\"Simple_RNN Score---> \", rnn.evaluate(X_test, y_test, verbose=1))"
   ]
  },
  {
   "cell_type": "code",
   "execution_count": 14,
   "id": "55251396",
   "metadata": {
    "execution": {
     "iopub.execute_input": "2025-03-19T22:57:21.759088Z",
     "iopub.status.busy": "2025-03-19T22:57:21.758789Z",
     "iopub.status.idle": "2025-03-19T22:57:22.076888Z",
     "shell.execute_reply": "2025-03-19T22:57:22.076001Z"
    },
    "papermill": {
     "duration": 0.373219,
     "end_time": "2025-03-19T22:57:22.078197",
     "exception": false,
     "start_time": "2025-03-19T22:57:21.704978",
     "status": "completed"
    },
    "tags": []
   },
   "outputs": [
    {
     "data": {
      "image/png": "[encoded data removed]",
      "text/plain": [
       "<Figure size 1000x500 with 1 Axes>"
      ]
     },
     "metadata": {},
     "output_type": "display_data"
    }
   ],
   "source": [
    "metrics = history.history\n",
    "\n",
    "plt.figure(figsize = (10 , 5))\n",
    "plt.plot(history.epoch, metrics['loss'], metrics['val_loss'])\n",
    "plt.xlabel(\"epochs\")\n",
    "plt.ylabel(\"loss\")\n",
    "plt.legend(['loss' , 'val_loss'])\n",
    "plt.show()"
   ]
  },
  {
   "cell_type": "code",
   "execution_count": 15,
   "id": "30ca2f91",
   "metadata": {
    "execution": {
     "iopub.execute_input": "2025-03-19T22:57:22.182789Z",
     "iopub.status.busy": "2025-03-19T22:57:22.182506Z",
     "iopub.status.idle": "2025-03-19T22:57:22.615144Z",
     "shell.execute_reply": "2025-03-19T22:57:22.614169Z"
    },
    "papermill": {
     "duration": 0.486595,
     "end_time": "2025-03-19T22:57:22.616657",
     "exception": false,
     "start_time": "2025-03-19T22:57:22.130062",
     "status": "completed"
    },
    "tags": []
   },
   "outputs": [
    {
     "data": {
      "image/png": "[encoded data removed]",
      "text/plain": [
       "<Figure size 640x480 with 1 Axes>"
      ]
     },
     "metadata": {},
     "output_type": "display_data"
    }
   ],
   "source": [
    "plt.plot(history.epoch, metrics['accuracy'], metrics['val_accuracy'])\n",
    "plt.legend(['accuracy', 'val_accuracy'])\n",
    "plt.xlabel('Epoch')\n",
    "plt.ylabel('Accuracy')\n",
    "plt.show()"
   ]
  },
  {
   "cell_type": "markdown",
   "id": "3c08f35a",
   "metadata": {
    "papermill": {
     "duration": 0.052858,
     "end_time": "2025-03-19T22:57:22.723331",
     "exception": false,
     "start_time": "2025-03-19T22:57:22.670473",
     "status": "completed"
    },
    "tags": []
   },
   "source": [
    "# **LSTM Model**"
   ]
  },
  {
   "cell_type": "code",
   "execution_count": 16,
   "id": "b520530c",
   "metadata": {
    "execution": {
     "iopub.execute_input": "2025-03-19T22:57:22.829195Z",
     "iopub.status.busy": "2025-03-19T22:57:22.828883Z",
     "iopub.status.idle": "2025-03-19T22:57:22.858290Z",
     "shell.execute_reply": "2025-03-19T22:57:22.857226Z"
    },
    "papermill": {
     "duration": 0.083668,
     "end_time": "2025-03-19T22:57:22.859685",
     "exception": false,
     "start_time": "2025-03-19T22:57:22.776017",
     "status": "completed"
    },
    "tags": []
   },
   "outputs": [
    {
     "data": {
      "text/html": [
       "<pre style=\"white-space:pre;overflow-x:auto;line-height:normal;font-family:Menlo,'DejaVu Sans Mono',consolas,'Courier New',monospace\"><span style=\"font-weight: bold\">Model: \"LSTM_Model\"</span>\n",
       "</pre>\n"
      ],
      "text/plain": [
       "\u001b[1mModel: \"LSTM_Model\"\u001b[0m\n"
      ]
     },
     "metadata": {},
     "output_type": "display_data"
    },
    {
     "data": {
      "text/html": [
       "<pre style=\"white-space:pre;overflow-x:auto;line-height:normal;font-family:Menlo,'DejaVu Sans Mono',consolas,'Courier New',monospace\">┏━━━━━━━━━━━━━━━━━━━━━━━━━━━━━━━━━━━━━━┳━━━━━━━━━━━━━━━━━━━━━━━━━━━━━┳━━━━━━━━━━━━━━━━━┓\n",
       "┃<span style=\"font-weight: bold\"> Layer (type)                         </span>┃<span style=\"font-weight: bold\"> Output Shape                </span>┃<span style=\"font-weight: bold\">         Param # </span>┃\n",
       "┡━━━━━━━━━━━━━━━━━━━━━━━━━━━━━━━━━━━━━━╇━━━━━━━━━━━━━━━━━━━━━━━━━━━━━╇━━━━━━━━━━━━━━━━━┩\n",
       "│ embedding_1 (<span style=\"color: #0087ff; text-decoration-color: #0087ff\">Embedding</span>)              │ ?                           │     <span style=\"color: #00af00; text-decoration-color: #00af00\">0</span> (unbuilt) │\n",
       "├──────────────────────────────────────┼─────────────────────────────┼─────────────────┤\n",
       "│ lstm (<span style=\"color: #0087ff; text-decoration-color: #0087ff\">LSTM</span>)                          │ ?                           │     <span style=\"color: #00af00; text-decoration-color: #00af00\">0</span> (unbuilt) │\n",
       "├──────────────────────────────────────┼─────────────────────────────┼─────────────────┤\n",
       "│ dropout (<span style=\"color: #0087ff; text-decoration-color: #0087ff\">Dropout</span>)                    │ ?                           │     <span style=\"color: #00af00; text-decoration-color: #00af00\">0</span> (unbuilt) │\n",
       "├──────────────────────────────────────┼─────────────────────────────┼─────────────────┤\n",
       "│ dense_1 (<span style=\"color: #0087ff; text-decoration-color: #0087ff\">Dense</span>)                      │ ?                           │     <span style=\"color: #00af00; text-decoration-color: #00af00\">0</span> (unbuilt) │\n",
       "├──────────────────────────────────────┼─────────────────────────────┼─────────────────┤\n",
       "│ dropout_1 (<span style=\"color: #0087ff; text-decoration-color: #0087ff\">Dropout</span>)                  │ ?                           │     <span style=\"color: #00af00; text-decoration-color: #00af00\">0</span> (unbuilt) │\n",
       "├──────────────────────────────────────┼─────────────────────────────┼─────────────────┤\n",
       "│ dense_2 (<span style=\"color: #0087ff; text-decoration-color: #0087ff\">Dense</span>)                      │ ?                           │     <span style=\"color: #00af00; text-decoration-color: #00af00\">0</span> (unbuilt) │\n",
       "└──────────────────────────────────────┴─────────────────────────────┴─────────────────┘\n",
       "</pre>\n"
      ],
      "text/plain": [
       "┏━━━━━━━━━━━━━━━━━━━━━━━━━━━━━━━━━━━━━━┳━━━━━━━━━━━━━━━━━━━━━━━━━━━━━┳━━━━━━━━━━━━━━━━━┓\n",
       "┃\u001b[1m \u001b[0m\u001b[1mLayer (type)                        \u001b[0m\u001b[1m \u001b[0m┃\u001b[1m \u001b[0m\u001b[1mOutput Shape               \u001b[0m\u001b[1m \u001b[0m┃\u001b[1m \u001b[0m\u001b[1m        Param #\u001b[0m\u001b[1m \u001b[0m┃\n",
       "┡━━━━━━━━━━━━━━━━━━━━━━━━━━━━━━━━━━━━━━╇━━━━━━━━━━━━━━━━━━━━━━━━━━━━━╇━━━━━━━━━━━━━━━━━┩\n",
       "│ embedding_1 (\u001b[38;5;33mEmbedding\u001b[0m)              │ ?                           │     \u001b[38;5;34m0\u001b[0m (unbuilt) │\n",
       "├──────────────────────────────────────┼─────────────────────────────┼─────────────────┤\n",
       "│ lstm (\u001b[38;5;33mLSTM\u001b[0m)                          │ ?                           │     \u001b[38;5;34m0\u001b[0m (unbuilt) │\n",
       "├──────────────────────────────────────┼─────────────────────────────┼─────────────────┤\n",
       "│ dropout (\u001b[38;5;33mDropout\u001b[0m)                    │ ?                           │     \u001b[38;5;34m0\u001b[0m (unbuilt) │\n",
       "├──────────────────────────────────────┼─────────────────────────────┼─────────────────┤\n",
       "│ dense_1 (\u001b[38;5;33mDense\u001b[0m)                      │ ?                           │     \u001b[38;5;34m0\u001b[0m (unbuilt) │\n",
       "├──────────────────────────────────────┼─────────────────────────────┼─────────────────┤\n",
       "│ dropout_1 (\u001b[38;5;33mDropout\u001b[0m)                  │ ?                           │     \u001b[38;5;34m0\u001b[0m (unbuilt) │\n",
       "├──────────────────────────────────────┼─────────────────────────────┼─────────────────┤\n",
       "│ dense_2 (\u001b[38;5;33mDense\u001b[0m)                      │ ?                           │     \u001b[38;5;34m0\u001b[0m (unbuilt) │\n",
       "└──────────────────────────────────────┴─────────────────────────────┴─────────────────┘\n"
      ]
     },
     "metadata": {},
     "output_type": "display_data"
    },
    {
     "data": {
      "text/html": [
       "<pre style=\"white-space:pre;overflow-x:auto;line-height:normal;font-family:Menlo,'DejaVu Sans Mono',consolas,'Courier New',monospace\"><span style=\"font-weight: bold\"> Total params: </span><span style=\"color: #00af00; text-decoration-color: #00af00\">0</span> (0.00 B)\n",
       "</pre>\n"
      ],
      "text/plain": [
       "\u001b[1m Total params: \u001b[0m\u001b[38;5;34m0\u001b[0m (0.00 B)\n"
      ]
     },
     "metadata": {},
     "output_type": "display_data"
    },
    {
     "data": {
      "text/html": [
       "<pre style=\"white-space:pre;overflow-x:auto;line-height:normal;font-family:Menlo,'DejaVu Sans Mono',consolas,'Courier New',monospace\"><span style=\"font-weight: bold\"> Trainable params: </span><span style=\"color: #00af00; text-decoration-color: #00af00\">0</span> (0.00 B)\n",
       "</pre>\n"
      ],
      "text/plain": [
       "\u001b[1m Trainable params: \u001b[0m\u001b[38;5;34m0\u001b[0m (0.00 B)\n"
      ]
     },
     "metadata": {},
     "output_type": "display_data"
    },
    {
     "data": {
      "text/html": [
       "<pre style=\"white-space:pre;overflow-x:auto;line-height:normal;font-family:Menlo,'DejaVu Sans Mono',consolas,'Courier New',monospace\"><span style=\"font-weight: bold\"> Non-trainable params: </span><span style=\"color: #00af00; text-decoration-color: #00af00\">0</span> (0.00 B)\n",
       "</pre>\n"
      ],
      "text/plain": [
       "\u001b[1m Non-trainable params: \u001b[0m\u001b[38;5;34m0\u001b[0m (0.00 B)\n"
      ]
     },
     "metadata": {},
     "output_type": "display_data"
    },
    {
     "name": "stdout",
     "output_type": "stream",
     "text": [
      "None\n"
     ]
    }
   ],
   "source": [
    "model = Sequential(name=\"LSTM_Model\") \n",
    "model.add(Embedding(len(tokenizer.word_index)+1, \n",
    "\t\t\t\t\tmax_words, \n",
    "\t\t\t\t\tinput_length=max_words)) \n",
    "\n",
    "\n",
    "model.add(LSTM(150, return_sequences=False)) \n",
    "BatchNormalization() \n",
    "model.add(Dropout(0.5)) \n",
    "\n",
    "\n",
    "model.add(Dense(50, activation='relu')) \n",
    "BatchNormalization() \n",
    "model.add(Dropout(0.5)) \n",
    "\n",
    "\n",
    "model.add(Dense(5, activation='softmax')) \n",
    " \n",
    "print(model.summary())"
   ]
  },
  {
   "cell_type": "code",
   "execution_count": 17,
   "id": "8e12c9b5",
   "metadata": {
    "execution": {
     "iopub.execute_input": "2025-03-19T22:57:23.007805Z",
     "iopub.status.busy": "2025-03-19T22:57:23.007518Z",
     "iopub.status.idle": "2025-03-19T22:58:25.507551Z",
     "shell.execute_reply": "2025-03-19T22:58:25.506795Z"
    },
    "papermill": {
     "duration": 62.558068,
     "end_time": "2025-03-19T22:58:25.508858",
     "exception": false,
     "start_time": "2025-03-19T22:57:22.950790",
     "status": "completed"
    },
    "tags": []
   },
   "outputs": [
    {
     "name": "stdout",
     "output_type": "stream",
     "text": [
      "Epoch 1/3\n",
      "\u001b[1m313/313\u001b[0m \u001b[32m━━━━━━━━━━━━━━━━━━━━\u001b[0m\u001b[37m\u001b[0m \u001b[1m24s\u001b[0m 58ms/step - accuracy: 0.3121 - loss: 1.4942 - val_accuracy: 0.4474 - val_loss: 1.2463\n",
      "Epoch 2/3\n",
      "\u001b[1m313/313\u001b[0m \u001b[32m━━━━━━━━━━━━━━━━━━━━\u001b[0m\u001b[37m\u001b[0m \u001b[1m18s\u001b[0m 58ms/step - accuracy: 0.5056 - loss: 1.1482 - val_accuracy: 0.4642 - val_loss: 1.2207\n",
      "Epoch 3/3\n",
      "\u001b[1m313/313\u001b[0m \u001b[32m━━━━━━━━━━━━━━━━━━━━\u001b[0m\u001b[37m\u001b[0m \u001b[1m18s\u001b[0m 58ms/step - accuracy: 0.6084 - loss: 0.9477 - val_accuracy: 0.4532 - val_loss: 1.3447\n",
      "\u001b[1m157/157\u001b[0m \u001b[32m━━━━━━━━━━━━━━━━━━━━\u001b[0m\u001b[37m\u001b[0m \u001b[1m2s\u001b[0m 10ms/step - accuracy: 0.4436 - loss: 1.3551\n",
      "LSTM model Score--->  [1.344744086265564, 0.45320001244544983]\n"
     ]
    }
   ],
   "source": [
    "model.compile(\n",
    "    loss=\"categorical_crossentropy\", \n",
    "    optimizer='adam', \n",
    "    metrics=['accuracy']\n",
    ")\n",
    "\n",
    "\n",
    "history2 = model.fit(X_train, y_train, \n",
    "                    batch_size=64, \n",
    "                    epochs=3, \n",
    "                    verbose=1, \n",
    "                    validation_data=(X_test, y_test))\n",
    "\n",
    "\n",
    "print(\"LSTM model Score---> \", model.evaluate(X_test, y_test, verbose=1))"
   ]
  },
  {
   "cell_type": "code",
   "execution_count": 18,
   "id": "cb15e978",
   "metadata": {
    "execution": {
     "iopub.execute_input": "2025-03-19T22:58:25.711090Z",
     "iopub.status.busy": "2025-03-19T22:58:25.710789Z",
     "iopub.status.idle": "2025-03-19T22:58:25.878712Z",
     "shell.execute_reply": "2025-03-19T22:58:25.877450Z"
    },
    "papermill": {
     "duration": 0.270058,
     "end_time": "2025-03-19T22:58:25.880271",
     "exception": false,
     "start_time": "2025-03-19T22:58:25.610213",
     "status": "completed"
    },
    "tags": []
   },
   "outputs": [
    {
     "data": {
      "image/png": "[encoded data removed]",
      "text/plain": [
       "<Figure size 1000x500 with 1 Axes>"
      ]
     },
     "metadata": {},
     "output_type": "display_data"
    }
   ],
   "source": [
    "metrics = history2.history \n",
    "\n",
    "plt.figure(figsize=(10, 5)) \n",
    "plt.plot(history2.epoch, metrics['loss'], metrics['val_loss'])\n",
    "plt.xlabel(\"epochs\")\n",
    "plt.ylabel(\"loss\")\n",
    "plt.legend(['loss' , 'val_loss'])\n",
    "plt.show()"
   ]
  },
  {
   "cell_type": "code",
   "execution_count": 19,
   "id": "5716ce94",
   "metadata": {
    "execution": {
     "iopub.execute_input": "2025-03-19T22:58:26.080536Z",
     "iopub.status.busy": "2025-03-19T22:58:26.080277Z",
     "iopub.status.idle": "2025-03-19T22:58:26.250061Z",
     "shell.execute_reply": "2025-03-19T22:58:26.249315Z"
    },
    "papermill": {
     "duration": 0.272877,
     "end_time": "2025-03-19T22:58:26.251553",
     "exception": false,
     "start_time": "2025-03-19T22:58:25.978676",
     "status": "completed"
    },
    "tags": []
   },
   "outputs": [
    {
     "data": {
      "image/png": "[encoded data removed]",
      "text/plain": [
       "<Figure size 640x480 with 1 Axes>"
      ]
     },
     "metadata": {},
     "output_type": "display_data"
    }
   ],
   "source": [
    "plt.plot(history2.epoch, metrics['accuracy'], metrics['val_accuracy'])\n",
    "plt.legend(['accuracy', 'val_accuracy'])\n",
    "plt.xlabel('Epoch')\n",
    "plt.ylabel('Accuracy')\n",
    "plt.show()"
   ]
  }
 ],
 "metadata": {
  "kaggle": {
   "accelerator": "nvidiaTeslaT4",
   "dataSources": [
    {
     "datasetId": 5602834,
     "sourceId": 9259846,
     "sourceType": "datasetVersion"
    }
   ],
   "dockerImageVersionId": 30919,
   "isGpuEnabled": true,
   "isInternetEnabled": true,
   "language": "python",
   "sourceType": "notebook"
  },
  "kernelspec": {
   "display_name": "Python 3",
   "language": "python",
   "name": "python3"
  },
  "language_info": {
   "codemirror_mode": {
    "name": "ipython",
    "version": 3
   },
   "file_extension": ".py",
   "mimetype": "text/x-python",
   "name": "python",
   "nbconvert_exporter": "python",
   "pygments_lexer": "ipython3",
   "version": "3.10.12"
  },
  "papermill": {
   "default_parameters": {},
   "duration": 227.500319,
   "end_time": "2025-03-19T22:58:29.911546",
   "environment_variables": {},
   "exception": null,
   "input_path": "__notebook__.ipynb",
   "output_path": "__notebook__.ipynb",
   "parameters": {},
   "start_time": "2025-03-19T22:54:42.411227",
   "version": "2.6.0"
  }
 },
 "nbformat": 4,
 "nbformat_minor": 5
}
